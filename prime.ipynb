{
 "cells": [
  {
   "cell_type": "code",
   "execution_count": 7,
   "metadata": {},
   "outputs": [],
   "source": [
    "import torch \n",
    "from torch import nn \n",
    "import torch.optim as optim"
   ]
  },
  {
   "cell_type": "code",
   "execution_count": 17,
   "metadata": {},
   "outputs": [],
   "source": [
    "# Train on the first five thousand primes \n",
    "primes = [] \n",
    "train_size = 49998\n",
    "train_input = [i for i in range(2, 50000)]\n",
    "train_output = [] \n",
    "for i in range(2, 50000): \n",
    "    # Check if i is prime \n",
    "    check = True\n",
    "    for prime in primes: \n",
    "        if i%prime == 0: check = False\n",
    "    if check: \n",
    "        primes.append(i)\n",
    "        train_output.append(1) \n",
    "    else: \n",
    "        train_output.append(0) \n",
    "test_size = 50000\n",
    "test_input = [i for i in range(50000, 100000)] \n",
    "test_output = []\n",
    "for i in range(50000, 100000): \n",
    "    # Check if i is prime \n",
    "    check = True\n",
    "    for prime in primes: \n",
    "        if i%prime == 0: check = False\n",
    "    if check: \n",
    "        primes.append(i)\n",
    "        test_output.append(1) \n",
    "    else: \n",
    "        test_output.append(0) \n"
   ]
  },
  {
   "cell_type": "code",
   "execution_count": 15,
   "metadata": {},
   "outputs": [],
   "source": [
    "model = nn.Sequential(\n",
    "    nn.Linear(1, 100000),\n",
    "    nn.ReLU(), \n",
    "    nn.Linear(100000, 1000), \n",
    "    nn.ReLU(), \n",
    "    nn.Linear(1000, 1000), \n",
    "    nn.Sigmoid(), \n",
    "    nn.Linear(1000, 10000), \n",
    "    nn.ReLU(),\n",
    "    nn.Linear(10000, 1),\n",
    "    nn.Sigmoid()\n",
    ")"
   ]
  },
  {
   "cell_type": "code",
   "execution_count": 18,
   "metadata": {},
   "outputs": [
    {
     "name": "stdout",
     "output_type": "stream",
     "text": [
      "tensor(0.2617, grad_fn=<MseLossBackward0>)\n"
     ]
    }
   ],
   "source": [
    "train_input_tensor = torch.tensor(train_input, dtype=torch.float32).unsqueeze(1)  # Reshape to (4998, 1)\n",
    "train_output_tensor = torch.tensor(train_output, dtype=torch.float32).unsqueeze(1)  # Reshape to (4998, 1)\n",
    "\n",
    "\n",
    "criterion = nn.MSELoss() \n",
    "optimizer = optim.SGD(model.parameters(), lr = 0.001)\n",
    "optimizer.zero_grad() \n",
    "\n",
    "out = model(train_input_tensor)\n",
    "\n",
    "loss = criterion(out, train_output_tensor)\n",
    "loss.backward() \n",
    "optimizer.step() \n",
    "\n",
    "print(loss)"
   ]
  },
  {
   "cell_type": "code",
   "execution_count": 21,
   "metadata": {},
   "outputs": [
    {
     "name": "stdout",
     "output_type": "stream",
     "text": [
      "Accuracy: 8.92%\n"
     ]
    }
   ],
   "source": [
    "predictions = torch.sigmoid(out)  # Convert logits to probabilities\n",
    "\n",
    "# Convert probabilities to binary predictions (threshold at 0.5)\n",
    "predictions = (predictions >= 0.5).float()  # Threshold at 0.5 to convert to 0 or 1\n",
    "\n",
    "# Calculate accuracy by comparing with the actual labels\n",
    "correct = (predictions == test_output_tensor).float()  # Compare predictions with labels\n",
    "accuracy = correct.sum() / len(correct)  # Calculate accuracy as the percentage of correct predictions\n",
    "\n",
    "print(f'Accuracy: {accuracy.item() * 100:.2f}%')"
   ]
  },
  {
   "cell_type": "code",
   "execution_count": 19,
   "metadata": {},
   "outputs": [
    {
     "name": "stdout",
     "output_type": "stream",
     "text": [
      "tensor(0.2459, grad_fn=<MseLossBackward0>)\n"
     ]
    }
   ],
   "source": [
    "test_input_tensor = torch.tensor(test_input, dtype=torch.float32).unsqueeze(1)  # Reshape to (4998, 1)\n",
    "test_output_tensor = torch.tensor(test_output, dtype=torch.float32).unsqueeze(1)  # Reshape to (4998, 1)\n",
    "\n",
    "out = model(test_input_tensor)\n",
    "\n",
    "loss = criterion(out, test_output_tensor)\n",
    "\n",
    "print(loss)"
   ]
  },
  {
   "cell_type": "code",
   "execution_count": 22,
   "metadata": {},
   "outputs": [
    {
     "name": "stdout",
     "output_type": "stream",
     "text": [
      "Accuracy: 8.92%\n"
     ]
    }
   ],
   "source": [
    "predictions = torch.sigmoid(out)  # Convert logits to probabilities\n",
    "\n",
    "# Convert probabilities to binary predictions (threshold at 0.5)\n",
    "predictions = (predictions >= 0.5).float()  # Threshold at 0.5 to convert to 0 or 1\n",
    "\n",
    "# Calculate accuracy by comparing with the actual labels\n",
    "correct = (predictions == test_output_tensor).float()  # Compare predictions with labels\n",
    "accuracy = correct.sum() / len(correct)  # Calculate accuracy as the percentage of correct predictions\n",
    "\n",
    "print(f'Accuracy: {accuracy.item() * 100:.2f}%')"
   ]
  }
 ],
 "metadata": {
  "kernelspec": {
   "display_name": "new_stim_env",
   "language": "python",
   "name": "python3"
  },
  "language_info": {
   "codemirror_mode": {
    "name": "ipython",
    "version": 3
   },
   "file_extension": ".py",
   "mimetype": "text/x-python",
   "name": "python",
   "nbconvert_exporter": "python",
   "pygments_lexer": "ipython3",
   "version": "3.12.7"
  },
  "orig_nbformat": 4
 },
 "nbformat": 4,
 "nbformat_minor": 2
}
